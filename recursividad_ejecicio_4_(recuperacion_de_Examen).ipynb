{
  "nbformat": 4,
  "nbformat_minor": 0,
  "metadata": {
    "colab": {
      "provenance": [],
      "authorship_tag": "ABX9TyPAcSOvsDUKYAxBnKHax9iW",
      "include_colab_link": true
    },
    "kernelspec": {
      "name": "python3",
      "display_name": "Python 3"
    },
    "language_info": {
      "name": "python"
    }
  },
  "cells": [
    {
      "cell_type": "markdown",
      "metadata": {
        "id": "view-in-github",
        "colab_type": "text"
      },
      "source": [
        "<a href=\"https://colab.research.google.com/github/Paoloruizq5/Prigrama-new/blob/main/recursividad_ejecicio_4_(recuperacion_de_Examen).ipynb\" target=\"_parent\"><img src=\"https://colab.research.google.com/assets/colab-badge.svg\" alt=\"Open In Colab\"/></a>"
      ]
    },
    {
      "cell_type": "code",
      "execution_count": 10,
      "metadata": {
        "colab": {
          "base_uri": "https://localhost:8080/"
        },
        "id": "NMh2rXLgvu7l",
        "outputId": "d57a47c1-7e39-49e2-ec46-db2cf199669e"
      },
      "outputs": [
        {
          "output_type": "stream",
          "name": "stdout",
          "text": [
            "[60, 44, 22, 33, 2, 60, 44, 22, 33, 2]\n",
            "[2, 2, 22, 22, 33, 33, 44, 44, 60, 60]\n"
          ]
        }
      ],
      "source": [
        "def ordenar(lista, cant):\n",
        "  if cant>1:\n",
        "    for f in range(0, cant-1):\n",
        "      if lista[f]>lista[f + 1]:\n",
        "        aux=lista[f]\n",
        "        lista[f]=lista[f + 1]\n",
        "        lista[f + 1] = aux\n",
        "      ordenar(lista, cant - 1)\n",
        "\n",
        "\n",
        "datos=[60,44,22,33,2]*2\n",
        "print(datos)\n",
        "ordenar(datos, len(datos))\n",
        "print(datos)\n",
        "\n"
      ]
    }
  ]
}