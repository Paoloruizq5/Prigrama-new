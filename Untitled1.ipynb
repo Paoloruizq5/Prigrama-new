{
  "nbformat": 4,
  "nbformat_minor": 0,
  "metadata": {
    "colab": {
      "name": "Untitled1.ipynb",
      "provenance": [],
      "authorship_tag": "ABX9TyMDgVB+8A53Fmy12MIOVcD+",
      "include_colab_link": true
    },
    "kernelspec": {
      "name": "python3",
      "display_name": "Python 3"
    },
    "language_info": {
      "name": "python"
    }
  },
  "cells": [
    {
      "cell_type": "markdown",
      "metadata": {
        "id": "view-in-github",
        "colab_type": "text"
      },
      "source": [
        "<a href=\"https://colab.research.google.com/github/Paoloruizq5/Prigrama-new/blob/main/Untitled1.ipynb\" target=\"_parent\"><img src=\"https://colab.research.google.com/assets/colab-badge.svg\" alt=\"Open In Colab\"/></a>"
      ]
    },
    {
      "cell_type": "code",
      "execution_count": null,
      "metadata": {
        "id": "Tl-Eq4SsX-1S"
      },
      "outputs": [],
      "source": [
        ""
      ]
    },
    {
      "cell_type": "markdown",
      "source": [
        "Practica 1:\n",
        "comparacion de vectores \n",
        "Paolo Zuriel Ruiz Soto \n",
        "22/08/2022\n"
      ],
      "metadata": {
        "id": "4UXDjaK1YLJZ"
      }
    },
    {
      "cell_type": "markdown",
      "source": [
        "# \"Algoritmo \"\n",
        "\n",
        "Vamos a capturar un texto, lo vamos a pasar a un vector, y se va a comparar con otro vector y revisar todas o alguna de las palabras; si estan todas las palabras, se realiza una acción, si no realiza otra acción.\n",
        "Se utiliza los metodos split()"
      ],
      "metadata": {
        "id": "pH4XGQmqZp3_"
      }
    },
    {
      "cell_type": "code",
      "source": [
        "texto = \"Recuerda que los lunes son de dia de pecho no como los gays que hacen pierna\"\n",
        "aTexto=texto.split()"
      ],
      "metadata": {
        "id": "oHk7d3ijaRbt"
      },
      "execution_count": null,
      "outputs": []
    },
    {
      "cell_type": "code",
      "source": [
        "print(aTexto)"
      ],
      "metadata": {
        "colab": {
          "base_uri": "https://localhost:8080/"
        },
        "id": "DN9Xw_GnbUz8",
        "outputId": "1335a359-f66e-462d-9112-bc22f92a75bf"
      },
      "execution_count": null,
      "outputs": [
        {
          "output_type": "stream",
          "name": "stdout",
          "text": [
            "['Recuerda', 'que', 'los', 'lunes', 'son', 'de', 'dia', 'de', 'pecho', 'no', 'como', 'los', 'gays', 'que', 'hacen', 'pierna']\n"
          ]
        }
      ]
    },
    {
      "cell_type": "markdown",
      "source": [
        "Construimos el metodo de busqueda"
      ],
      "metadata": {
        "id": "2AbD0_30gGWN"
      }
    },
    {
      "cell_type": "code",
      "source": [
        "palabras = ['recuerda','lunes']\n"
      ],
      "metadata": {
        "id": "jE1gSQlKgKLZ"
      },
      "execution_count": null,
      "outputs": []
    },
    {
      "cell_type": "markdown",
      "source": [
        "Buscamos si existe alguna coincidencia"
      ],
      "metadata": {
        "id": "r16eC5Gagwjg"
      }
    },
    {
      "cell_type": "code",
      "source": [
        "if any(palabra in aTexto for palabra in palabras):\n",
        "  print(\"El texto es un saludo\")\n",
        "else:\n",
        "  print(\"El texto no es un saludo\")"
      ],
      "metadata": {
        "colab": {
          "base_uri": "https://localhost:8080/"
        },
        "id": "0xVhFt9xg0ky",
        "outputId": "b4a39d4c-7bf4-430f-bd2a-b445824aeb8e"
      },
      "execution_count": null,
      "outputs": [
        {
          "output_type": "stream",
          "name": "stdout",
          "text": [
            "El texto es un saludo\n"
          ]
        }
      ]
    },
    {
      "cell_type": "markdown",
      "source": [
        "Probamos con all"
      ],
      "metadata": {
        "id": "zKM78Jepk8oZ"
      }
    },
    {
      "cell_type": "code",
      "source": [
        "palabras = ['Recuerda','que', 'los' ,'lunes', 'son', 'de', 'dia', 'de', 'pecho', 'no', 'como', 'los','UwU']"
      ],
      "metadata": {
        "id": "BMRhWQislFBR"
      },
      "execution_count": null,
      "outputs": []
    },
    {
      "cell_type": "code",
      "source": [
        "if all(palabra in aTexto for palabra in palabras):\n",
        "  print(\"El texto es un saludo\")\n",
        "else:\n",
        "  print(\"El texto no es un saludo\")"
      ],
      "metadata": {
        "colab": {
          "base_uri": "https://localhost:8080/"
        },
        "id": "JSHOqKm6l5Ac",
        "outputId": "8c542c94-3c11-4b55-e3f5-fa4d7389d03e"
      },
      "execution_count": null,
      "outputs": [
        {
          "output_type": "stream",
          "name": "stdout",
          "text": [
            "El texto no es un saludo\n"
          ]
        }
      ]
    }
  ]
}