{
  "nbformat": 4,
  "nbformat_minor": 0,
  "metadata": {
    "colab": {
      "provenance": [],
      "authorship_tag": "ABX9TyMVOkBwB0voDYDYMO0poxQH",
      "include_colab_link": true
    },
    "kernelspec": {
      "name": "python3",
      "display_name": "Python 3"
    },
    "language_info": {
      "name": "python"
    }
  },
  "cells": [
    {
      "cell_type": "markdown",
      "metadata": {
        "id": "view-in-github",
        "colab_type": "text"
      },
      "source": [
        "<a href=\"https://colab.research.google.com/github/Paoloruizq5/Prigrama-new/blob/main/Nodos_unidad_3_eipynb.ipynb\" target=\"_parent\"><img src=\"https://colab.research.google.com/assets/colab-badge.svg\" alt=\"Open In Colab\"/></a>"
      ]
    },
    {
      "cell_type": "code",
      "execution_count": 1,
      "metadata": {
        "colab": {
          "base_uri": "https://localhost:8080/"
        },
        "id": "b7urtr5j9ENC",
        "outputId": "45bf329a-4b4d-4e46-fa64-eaed6625420f"
      },
      "outputs": [
        {
          "output_type": "stream",
          "name": "stdout",
          "text": [
            "<bound method Nodo.dato of <__main__.Nodo object at 0x7fcf0aedee90>> <bound method Nodo.proximo of <__main__.Nodo object at 0x7fcf0aedee90>>\n",
            "<bound method Nodo.dato of <__main__.Nodo object at 0x7fcf0aee3150>> <bound method Nodo.proximo of <__main__.Nodo object at 0x7fcf0aee3150>>\n",
            "<bound method Nodo.dato of <__main__.Nodo object at 0x7fcf0aee3190>> <bound method Nodo.proximo of <__main__.Nodo object at 0x7fcf0aee3190>>\n",
            "Nodo [manzana]\n",
            "Nodo [pera]\n",
            "Nodo [uva]\n"
          ]
        }
      ],
      "source": [
        "class Nodo(object):\n",
        "    def __init__( self, dato,prox=None ):\n",
        "        self.Dato = dato\n",
        "        self.Prox = prox\n",
        "\n",
        "    def __str__(self):\n",
        "        return 'Nodo ['+str(self.Dato)+']'\n",
        "\n",
        "    def dato(self):\n",
        "        return self.Dato\n",
        "    def dato(self,dato):\n",
        "        self.Dato = dato\n",
        "    def proximo(self):\n",
        "        return self.Prox\n",
        "    def proximo(self,prox):\n",
        "        self.Prox = prox \n",
        "if __name__ == '__main__':\n",
        "    nodo1 = Nodo(\"manzana\")\n",
        "    nodo2 = Nodo(\"pera\",nodo1)\n",
        "    nodo3 = Nodo(\"uva\",nodo2)\n",
        "    print (nodo1.dato,nodo1.proximo)\n",
        "    print (nodo2.dato,nodo2.proximo)\n",
        "    print (nodo3.dato,nodo3.proximo)\n",
        "    print (nodo1)\n",
        "    print (nodo2)\n",
        "    print (nodo3)"
      ]
    }
  ]
}