{
  "nbformat": 4,
  "nbformat_minor": 0,
  "metadata": {
    "colab": {
      "name": "Untitled5.ipynb",
      "provenance": [],
      "authorship_tag": "ABX9TyMR+42rV4DmEZ829+IybsW4",
      "include_colab_link": true
    },
    "kernelspec": {
      "name": "python3",
      "display_name": "Python 3"
    },
    "language_info": {
      "name": "python"
    }
  },
  "cells": [
    {
      "cell_type": "markdown",
      "metadata": {
        "id": "view-in-github",
        "colab_type": "text"
      },
      "source": [
        "<a href=\"https://colab.research.google.com/github/Paoloruizq5/Prigrama-new/blob/main/Untitled5.ipynb\" target=\"_parent\"><img src=\"https://colab.research.google.com/assets/colab-badge.svg\" alt=\"Open In Colab\"/></a>"
      ]
    },
    {
      "cell_type": "code",
      "execution_count": 7,
      "metadata": {
        "colab": {
          "base_uri": "https://localhost:8080/"
        },
        "id": "I49RpWz6uD91",
        "outputId": "0246e9c1-f0d4-4c0c-f6bf-9bfcf6c589ef"
      },
      "outputs": [
        {
          "output_type": "stream",
          "name": "stdout",
          "text": [
            "Carne\n",
            "exception ocurred \n"
          ]
        }
      ],
      "source": [
        "factura = ['Pan', 'Carne',' 100', '1234']\n",
        "print(factura[-3])\n",
        "try:\n",
        "    print(factura[-5])\n",
        "except:\n",
        "    print(\"exception ocurred \")\n"
      ]
    },
    {
      "cell_type": "code",
      "source": [
        "version = [2.5, 3.6, 4, 5]\n",
        "print(version)\n",
        "version.append(6)\n",
        "print(version)\n",
        "\n"
      ],
      "metadata": {
        "colab": {
          "base_uri": "https://localhost:8080/"
        },
        "id": "aCadxFQwyEIO",
        "outputId": "59e210fa-0c74-491a-e650-9c8ece9daaf1"
      },
      "execution_count": 13,
      "outputs": [
        {
          "output_type": "stream",
          "name": "stdout",
          "text": [
            "[2.5, 3.6, 4, 5]\n",
            "[2.5, 3.6, 4, 5]\n"
          ]
        }
      ]
    },
    {
      "cell_type": "code",
      "source": [
        "version=[2.1, 2.5, 3.6, 4,5,6]\n",
        "print(\"6->\"), version.count(6)\n",
        "print(\"5->\"), version.count(5)\n",
        "print(\"2.5->\"), version.count(2.5)"
      ],
      "metadata": {
        "colab": {
          "base_uri": "https://localhost:8080/"
        },
        "id": "3brpE3k1z7b9",
        "outputId": "4fb9be05-35cb-47f0-e2bb-42ae61c6b05d"
      },
      "execution_count": 15,
      "outputs": [
        {
          "output_type": "stream",
          "name": "stdout",
          "text": [
            "6->\n",
            "5->\n",
            "2.5->\n"
          ]
        },
        {
          "output_type": "execute_result",
          "data": {
            "text/plain": [
              "(None, 1)"
            ]
          },
          "metadata": {},
          "execution_count": 15
        }
      ]
    },
    {
      "cell_type": "code",
      "source": [
        "version = [2.1, 2.5, 3.6]\n",
        "print(version)\n",
        "version.extend([4])\n",
        "print(version)\n",
        "version.extend(range(5,11))\n",
        "print(version)"
      ],
      "metadata": {
        "colab": {
          "base_uri": "https://localhost:8080/"
        },
        "id": "BisrXbXS1fHP",
        "outputId": "b17fe518-c4ad-4c0a-942d-7a5c159c8cfa"
      },
      "execution_count": 21,
      "outputs": [
        {
          "output_type": "stream",
          "name": "stdout",
          "text": [
            "[2.1, 2.5, 3.6]\n",
            "[2.1, 2.5, 3.6, 4]\n",
            "[2.1, 2.5, 3.6, 4, 5, 6, 7, 8, 9, 10]\n"
          ]
        }
      ]
    },
    {
      "cell_type": "code",
      "source": [
        "version = [2.1, 2.5, 3.6, 4, 5, 6, 4,]\n",
        "print(version.index(4))\n",
        "\n"
      ],
      "metadata": {
        "colab": {
          "base_uri": "https://localhost:8080/"
        },
        "id": "8ob8esSU3JxA",
        "outputId": "8a0432d6-01c0-402e-ec44-77e833b974bf"
      },
      "execution_count": 22,
      "outputs": [
        {
          "output_type": "stream",
          "name": "stdout",
          "text": [
            "3\n"
          ]
        }
      ]
    },
    {
      "cell_type": "code",
      "source": [
        "version = [2.1,2.5,3.6,4,5,6,4]\n",
        "version[2]\n",
        "print(version.index(4,2))\n",
        "version[3]\n",
        "print(version.index(4,5))\n",
        "\n",
        "\n",
        "\n"
      ],
      "metadata": {
        "colab": {
          "base_uri": "https://localhost:8080/"
        },
        "id": "kDSoifZt4AY4",
        "outputId": "09f641d1-97c3-41b9-e7a8-b96f5d6b3eba"
      },
      "execution_count": 29,
      "outputs": [
        {
          "output_type": "stream",
          "name": "stdout",
          "text": [
            "3\n",
            "6\n"
          ]
        }
      ]
    },
    {
      "cell_type": "code",
      "source": [
        "version =[2.1, 2.5, 3.6, 4,5,6,4]\n",
        "print(version.index(9))"
      ],
      "metadata": {
        "colab": {
          "base_uri": "https://localhost:8080/",
          "height": 182
        },
        "id": "tWBSUONL48rG",
        "outputId": "942c96d6-abe8-4e6d-e051-9070671cdce1"
      },
      "execution_count": 30,
      "outputs": [
        {
          "output_type": "error",
          "ename": "ValueError",
          "evalue": "ignored",
          "traceback": [
            "\u001b[0;31m---------------------------------------------------------------------------\u001b[0m",
            "\u001b[0;31mValueError\u001b[0m                                Traceback (most recent call last)",
            "\u001b[0;32m<ipython-input-30-546261185e7a>\u001b[0m in \u001b[0;36m<module>\u001b[0;34m\u001b[0m\n\u001b[1;32m      1\u001b[0m \u001b[0mversion\u001b[0m \u001b[0;34m=\u001b[0m\u001b[0;34m[\u001b[0m\u001b[0;36m2.1\u001b[0m\u001b[0;34m,\u001b[0m \u001b[0;36m2.5\u001b[0m\u001b[0;34m,\u001b[0m \u001b[0;36m3.6\u001b[0m\u001b[0;34m,\u001b[0m \u001b[0;36m4\u001b[0m\u001b[0;34m,\u001b[0m\u001b[0;36m5\u001b[0m\u001b[0;34m,\u001b[0m\u001b[0;36m6\u001b[0m\u001b[0;34m,\u001b[0m\u001b[0;36m4\u001b[0m\u001b[0;34m]\u001b[0m\u001b[0;34m\u001b[0m\u001b[0;34m\u001b[0m\u001b[0m\n\u001b[0;32m----> 2\u001b[0;31m \u001b[0mprint\u001b[0m\u001b[0;34m(\u001b[0m\u001b[0mversion\u001b[0m\u001b[0;34m.\u001b[0m\u001b[0mindex\u001b[0m\u001b[0;34m(\u001b[0m\u001b[0;36m9\u001b[0m\u001b[0;34m)\u001b[0m\u001b[0;34m)\u001b[0m\u001b[0;34m\u001b[0m\u001b[0;34m\u001b[0m\u001b[0m\n\u001b[0m",
            "\u001b[0;31mValueError\u001b[0m: 9 is not in list"
          ]
        }
      ]
    },
    {
      "cell_type": "code",
      "source": [
        "version = [2.1, 2.5, 3.6, 4, 5, 6]\n",
        "print(version)\n",
        "version.insert(2, 3.7)\n",
        "print(version)\n"
      ],
      "metadata": {
        "colab": {
          "base_uri": "https://localhost:8080/"
        },
        "id": "MRRMrler6sH-",
        "outputId": "4f74aefe-8434-4b61-8457-036d33f77fa1"
      },
      "execution_count": 31,
      "outputs": [
        {
          "output_type": "stream",
          "name": "stdout",
          "text": [
            "[2.1, 2.5, 3.6, 4, 5, 6]\n",
            "[2.1, 2.5, 3.7, 3.6, 4, 5, 6]\n"
          ]
        }
      ]
    },
    {
      "cell_type": "code",
      "source": [
        "version = [2.1, 2.5, 3.6, 4, 5, 6]\n",
        "print(version.pop(2))\n",
        "print(version)"
      ],
      "metadata": {
        "colab": {
          "base_uri": "https://localhost:8080/"
        },
        "id": "JVq_58vE7YT3",
        "outputId": "70e968e1-700c-4366-98d5-a4cac8b18b3a"
      },
      "execution_count": 34,
      "outputs": [
        {
          "output_type": "stream",
          "name": "stdout",
          "text": [
            "3.6\n",
            "[2.1, 2.5, 4, 5, 6]\n"
          ]
        }
      ]
    },
    {
      "cell_type": "code",
      "source": [
        "version = [2.1, 2.5, 3.6, 4, 5, 6]\n",
        "print(version)\n",
        "version.remove(2.5)\n",
        "print(version)"
      ],
      "metadata": {
        "colab": {
          "base_uri": "https://localhost:8080/"
        },
        "id": "4sUm-8tK8OE-",
        "outputId": "8d2415d1-a72a-4a10-b75b-02d221ae0edf"
      },
      "execution_count": 40,
      "outputs": [
        {
          "output_type": "stream",
          "name": "stdout",
          "text": [
            "[2.1, 2.5, 3.6, 4, 5, 6]\n",
            "[2.1, 3.6, 4, 5, 6]\n"
          ]
        }
      ]
    },
    {
      "cell_type": "code",
      "source": [
        "version = [2.1, 2.5, 3.6, 4, 5, 6]\n",
        "print(version)\n",
        "version.reverse()\n",
        "print(version)"
      ],
      "metadata": {
        "colab": {
          "base_uri": "https://localhost:8080/"
        },
        "id": "fiFYv0gg8sa0",
        "outputId": "2aafd3f4-ce30-4d48-9460-b49d8759cb04"
      },
      "execution_count": 41,
      "outputs": [
        {
          "output_type": "stream",
          "name": "stdout",
          "text": [
            "[2.1, 2.5, 3.6, 4, 5, 6]\n",
            "[6, 5, 4, 3.6, 2.5, 2.1]\n"
          ]
        }
      ]
    },
    {
      "cell_type": "code",
      "source": [
        "version = [4, 2.5, 5, 3.6, 4, 5, 6]\n",
        "nombre = [2,5,6,7,8,89]\n",
        "print(version)\n",
        "print(nombre)\n",
        "nombre.sort()\n",
        "version.sort()\n",
        "print(version)\n",
        "print(nombre)"
      ],
      "metadata": {
        "colab": {
          "base_uri": "https://localhost:8080/"
        },
        "id": "Rm9wpScE9Dpc",
        "outputId": "751a2aa8-75e8-48e7-9165-60d998cbd8e1"
      },
      "execution_count": 45,
      "outputs": [
        {
          "output_type": "stream",
          "name": "stdout",
          "text": [
            "[4, 2.5, 5, 3.6, 4, 5, 6]\n",
            "[2, 5, 6, 7, 8, 89]\n",
            "[2.5, 3.6, 4, 4, 5, 5, 6]\n",
            "[2, 5, 6, 7, 8, 89]\n"
          ]
        }
      ]
    }
  ]
}