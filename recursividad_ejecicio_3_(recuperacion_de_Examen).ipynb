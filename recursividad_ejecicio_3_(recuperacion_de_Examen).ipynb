{
  "nbformat": 4,
  "nbformat_minor": 0,
  "metadata": {
    "colab": {
      "provenance": [],
      "authorship_tag": "ABX9TyPa8d6J9Awelr+13BsnbLwX",
      "include_colab_link": true
    },
    "kernelspec": {
      "name": "python3",
      "display_name": "Python 3"
    },
    "language_info": {
      "name": "python"
    }
  },
  "cells": [
    {
      "cell_type": "markdown",
      "metadata": {
        "id": "view-in-github",
        "colab_type": "text"
      },
      "source": [
        "<a href=\"https://colab.research.google.com/github/Paoloruizq5/Prigrama-new/blob/main/recursividad_ejecicio_3_(recuperacion_de_Examen).ipynb\" target=\"_parent\"><img src=\"https://colab.research.google.com/assets/colab-badge.svg\" alt=\"Open In Colab\"/></a>"
      ]
    },
    {
      "cell_type": "code",
      "execution_count": 13,
      "metadata": {
        "colab": {
          "base_uri": "https://localhost:8080/"
        },
        "id": "NMh2rXLgvu7l",
        "outputId": "d62bf7b9-b214-4c32-dc7b-8a29fa274392"
      },
      "outputs": [
        {
          "output_type": "stream",
          "name": "stdout",
          "text": [
            "ENTRADA\n",
            "T\n",
            "E\n",
            "C\n",
            "N\n",
            "SALIDA\n",
            "N\n",
            "C\n",
            "E\n",
            "T\n"
          ]
        }
      ],
      "source": [
        "pila = []\n",
        "print(\"ENTRADA\")\n",
        "pila.append('T')\n",
        "print('T')\n",
        "pila.append('E')\n",
        "print('E')\n",
        "pila.append('C')\n",
        "print('C')\n",
        "pila.append('N')\n",
        "print('N')\n",
        "\n",
        "\n",
        "print(\"SALIDA\")\n",
        "n=pila.pop()\n",
        "print(n)\n",
        "n=pila.pop()\n",
        "print(n)\n",
        "n=pila.pop()\n",
        "print(n)\n",
        "n=pila.pop()\n",
        "print(n)"
      ]
    }
  ]
}