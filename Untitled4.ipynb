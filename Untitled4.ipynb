{
  "nbformat": 4,
  "nbformat_minor": 0,
  "metadata": {
    "colab": {
      "name": "Untitled4.ipynb",
      "provenance": [],
      "authorship_tag": "ABX9TyPPfQru+5GUouHfbbXte71B",
      "include_colab_link": true
    },
    "kernelspec": {
      "name": "python3",
      "display_name": "Python 3"
    },
    "language_info": {
      "name": "python"
    }
  },
  "cells": [
    {
      "cell_type": "markdown",
      "metadata": {
        "id": "view-in-github",
        "colab_type": "text"
      },
      "source": [
        "<a href=\"https://colab.research.google.com/github/Paoloruizq5/Prigrama-new/blob/main/Untitled4.ipynb\" target=\"_parent\"><img src=\"https://colab.research.google.com/assets/colab-badge.svg\" alt=\"Open In Colab\"/></a>"
      ]
    },
    {
      "cell_type": "markdown",
      "source": [
        "## Fundamentos de Estructura de Datos"
      ],
      "metadata": {
        "id": "9gmsy4VvqaM1"
      }
    },
    {
      "cell_type": "markdown",
      "source": [
        "# *1.1 DEFINCIÓN\n",
        "\n",
        "Es una forma de organizar un conjunto\n",
        "de datos elementales con el objetivo de facilitar su manipulación. \n",
        "\n",
        "Es también un conjunto de reglas que contienen datos juntos.\n",
        "\n",
        "Una estructura de datos define la organización e interrelación de estos y un\n",
        "conjunto de operaciones que se pueden realizar sobre ellos. Las operaciones\n",
        "básicas son:\n",
        "\n",
        "- Alta, adicionar un nuevo valor a la estructura.\n",
        "\n",
        "- Baja, borrar un valor de la estructura.\n",
        "\n",
        "- Búsqueda, encontrar un determinado valor en la estructura para realizar una\n",
        "operación con este valor\n"
      ],
      "metadata": {
        "id": "PnOYk_SDbMCI"
      }
    },
    {
      "cell_type": "markdown",
      "source": [
        "CLASIFICACIÓN"
      ],
      "metadata": {
        "id": "IjY9gTWYgn_c"
      }
    },
    {
      "cell_type": "markdown",
      "source": [
        "Una estructura de datos es una clase de datos que se puede caracterizar por su\n",
        "organización y operaciones definidas sobre ella. Algunas veces a estas\n",
        "estructuras se les llama tipos de datos.\n",
        "\n",
        "ESTRUCTURAS LÓGICAS DE DATOS:\n",
        "\n",
        "En un programa, cada variable pertenece a alguna estructura de datos explícita o\n",
        "implícitamente definida, la cual determina el conjunto de operaciones validas para\n",
        "ella. Las estructuras de datos que se discuten aquí son estructuras de datos\n",
        "lógicas."
      ],
      "metadata": {
        "id": "MEEaPAE_n9VG"
      }
    },
    {
      "cell_type": "markdown",
      "source": [
        "## Estructuras lineales y no lineales\n",
        "\n",
        "Las dos principales de estructuras de\n",
        "datos son las lineales y las no lineales\n",
        "\n",
        "Las estructuras de datos lineales incluyen\n",
        "pilas, colas y listas ligadas lineales. \n",
        "\n",
        "Las estructuras de datos no lineales incluyen\n",
        "grafos y árboles"
      ],
      "metadata": {
        "id": "Yc36LLbQpKi8"
      }
    },
    {
      "cell_type": "markdown",
      "source": [
        "Ejemplo de estructuras lineales:\n"
      ],
      "metadata": {
        "id": "aFPjUGwprSAs"
      }
    },
    {
      "cell_type": "code",
      "source": [
        "frutas = ['naranja', 'manzana', 'pera', 'platan', 'kiwi', 'manzana', 'platano']\n",
        "frutas.count('manzana')"
      ],
      "metadata": {
        "colab": {
          "base_uri": "https://localhost:8080/"
        },
        "id": "rzgric3ErXS6",
        "outputId": "128efde6-4c18-459c-c7af-52567606d15a"
      },
      "execution_count": 15,
      "outputs": [
        {
          "output_type": "execute_result",
          "data": {
            "text/plain": [
              "2"
            ]
          },
          "metadata": {},
          "execution_count": 15
        }
      ]
    },
    {
      "cell_type": "markdown",
      "source": [
        "Ejemplo usando listas como pilas"
      ],
      "metadata": {
        "id": "jFK7AhnOx48Z"
      }
    },
    {
      "cell_type": "code",
      "source": [
        "numeros = [3, 4, 5]\n",
        "numeros.append(6) \n",
        "numeros.append(7)\n",
        "numeros"
      ],
      "metadata": {
        "colab": {
          "base_uri": "https://localhost:8080/"
        },
        "id": "Vu3spxAixoQ-",
        "outputId": "a87a33ec-b48b-44d7-f15e-8a7f7dc7dfd3"
      },
      "execution_count": 18,
      "outputs": [
        {
          "output_type": "execute_result",
          "data": {
            "text/plain": [
              "[3, 4, 5, 6, 7]"
            ]
          },
          "metadata": {},
          "execution_count": 18
        }
      ]
    },
    {
      "cell_type": "markdown",
      "source": [
        "Los métodos de lista hacen que resulte muy fácil usar una lista como una pila, donde el último elemento añadido es el primer elemento retirado.\n",
        "\n",
        "Para agregar un elemento a la cima de la pila, utiliza append()"
      ],
      "metadata": {
        "id": "GtB-CfRNvw-Z"
      }
    },
    {
      "cell_type": "markdown",
      "source": [
        "Ejemplo de estructuras no lineales"
      ],
      "metadata": {
        "id": "0mf1bQEg17Lc"
      }
    },
    {
      "cell_type": "markdown",
      "source": [
        "las estructuras no lineales incluyen arboles y para declarar un arbol binario se ocupa crear una clase Tree con una función __init__() que instanciará estos tres campos de clase: el nodo hijo izquierdo, el nodo hijo derecho y los datos del nodo actual. Los tres campos mencionados son la composición de un árbol binario simple."
      ],
      "metadata": {
        "id": "YFPPZ0H3yZaP"
      }
    },
    {
      "cell_type": "code",
      "source": [
        "class Tree:\n",
        "  def __init__(self, val = None):\n",
        "    if val != None:\n",
        "        self.val = val\n",
        "    else:\n",
        "        self.val = None\n",
        "        \n",
        "    self.left = None\n",
        "    self.right = None"
      ],
      "metadata": {
        "id": "K3I8b8k7vzBi"
      },
      "execution_count": 19,
      "outputs": []
    },
    {
      "cell_type": "markdown",
      "source": [
        "## Estructura dinamica y estática "
      ],
      "metadata": {
        "id": "Qq3mKn5I2R3h"
      }
    },
    {
      "cell_type": "markdown",
      "source": [
        "Son aquellas en las que el tamaño ocupado en memoria se define antes de\n",
        "que el programa se ejecute y no puede modificarse dicho tamaño durante la\n",
        "ejecución del programa.\n",
        "Estas estructuras están implementadas en casi todos los lenguajes.\n",
        "Su principal característica es que ocupan solo una casilla de memoria, por\n",
        "lo tanto una variable simple hace referencia a un único valor a la vez,\n",
        "dentro de este grupo de datos se encuentra:\n",
        "\n",
        "a)Enteros\n",
        "\n",
        "b)Reales\n",
        "\n",
        "c)Caracteres\n",
        "\n",
        "d)Boléanos\n",
        "\n",
        "e)Enumerados\n",
        "\n",
        "f)Subrangos"
      ],
      "metadata": {
        "id": "7_Jh_Sg-2npl"
      }
    },
    {
      "cell_type": "markdown",
      "source": [
        "Ejemplo de estructura dinamica\n",
        "\n",
        "un ejemplo simple es como anteriormente habiamos comentado  una lista muy simple y dinámica esta forma de tener objetos dinámicos en memoria no se puede comparar a la estatica\n",
        "puesto que el constructor de la clase List tiene una implementación interna que gestiona la memoria. Posiblemente, al declarar un objeto lista se reserve cierta cantidad de memoria\n",
        "\n"
      ],
      "metadata": {
        "id": "WRbU2W_w5ult"
      }
    },
    {
      "cell_type": "code",
      "source": [
        "a = [] # Aqui se construye la lista\n",
        "a.append(2)\n",
        "a.append(1)\n",
        "a"
      ],
      "metadata": {
        "colab": {
          "base_uri": "https://localhost:8080/"
        },
        "id": "MJ7lPUK75qbt",
        "outputId": "0e3a69ac-d79e-47f1-e43c-30d974e89b87"
      },
      "execution_count": 25,
      "outputs": [
        {
          "output_type": "execute_result",
          "data": {
            "text/plain": [
              "[2, 1]"
            ]
          },
          "metadata": {},
          "execution_count": 25
        }
      ]
    }
  ]
}