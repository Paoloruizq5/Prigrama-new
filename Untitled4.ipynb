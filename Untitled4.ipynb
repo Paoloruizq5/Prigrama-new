{
  "nbformat": 4,
  "nbformat_minor": 0,
  "metadata": {
    "colab": {
      "name": "Untitled4.ipynb",
      "provenance": [],
      "authorship_tag": "ABX9TyOFC7yuA/z6L8q5SpUdbEmX",
      "include_colab_link": true
    },
    "kernelspec": {
      "name": "python3",
      "display_name": "Python 3"
    },
    "language_info": {
      "name": "python"
    }
  },
  "cells": [
    {
      "cell_type": "markdown",
      "metadata": {
        "id": "view-in-github",
        "colab_type": "text"
      },
      "source": [
        "<a href=\"https://colab.research.google.com/github/Paoloruizq5/Prigrama-new/blob/main/Untitled4.ipynb\" target=\"_parent\"><img src=\"https://colab.research.google.com/assets/colab-badge.svg\" alt=\"Open In Colab\"/></a>"
      ]
    },
    {
      "cell_type": "markdown",
      "source": [
        "Fundamentos de estructura de datos"
      ],
      "metadata": {
        "id": "A1YDfpiPa2p8"
      }
    },
    {
      "cell_type": "markdown",
      "source": [
        "1.1 DEFINCIÓN \n",
        "\n",
        "Es una forma de organizar un conjunto\n",
        "de datos elementales con el objetivo de facilitar su manipulación. \n",
        "\n",
        "Es también un conjunto de reglas que contienen datos juntos.\n",
        "\n",
        "Una estructura de datos define la organización e interrelación de estos y un\n",
        "conjunto de operaciones que se pueden realizar sobre ellos. Las operaciones\n",
        "básicas son:\n",
        "\n",
        "- Alta, adicionar un nuevo valor a la estructura.\n",
        "\n",
        "- Baja, borrar un valor de la estructura.\n"
      ],
      "metadata": {
        "id": "PnOYk_SDbMCI"
      }
    }
  ]
}